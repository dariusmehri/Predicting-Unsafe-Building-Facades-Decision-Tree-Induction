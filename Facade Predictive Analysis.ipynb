{
 "cells": [
  {
   "cell_type": "code",
   "execution_count": 199,
   "metadata": {
    "collapsed": false
   },
   "outputs": [
    {
     "name": "stdout",
     "output_type": "stream",
     "text": [
      "drop current status of NR\n",
      "original length of df 51307\n",
      "new length of df 38435\n",
      "\n",
      "drop rows with BIN = 0\n",
      "new length of df 38414\n",
      "\n",
      "drop NaN\n",
      "length of df before drop 38414\n",
      "length of df after drop 37628\n",
      "\n"
     ]
    }
   ],
   "source": [
    "import pandas as pd\n",
    "import numpy as np\n",
    "\n",
    "df = pd.read_csv(\"S:\\\\Office of Risk Management\\\\User Folders\\\\Darius Mehri\\\\Facade Predictive Analysis\\\\Cycle 5-8 Non DOB NOW Facade Filings (11-22-16).csv\", low_memory=False )\n",
    "\n",
    "df['Initial File Date Raw'] = df['Initial File Date Raw'].astype(str)\n",
    "df['Initial File Date'] =  df['Initial File Date Raw'].apply(lambda x: x[4:6]) + \"/\" + df['Initial File Date Raw'].apply(lambda x: x[6:8]) + \"/\" + df['Initial File Date Raw'].apply(lambda x: x[:4])\n",
    "\n",
    "df['Initial File Date'] = df['Initial File Date'].str.replace('//', '')\n",
    "\n",
    "df['Initial File Year'] = df['Initial File Date Raw'].apply(lambda x: x[:4])\n",
    "\n",
    "#df[\"BIN\"] = df[\"BIN\"].astype(int)\n",
    "\n",
    "print \"drop current status of NR\"\n",
    "print \"original length of df\", len(df)\n",
    "df = df[df['Current Status'] != 'NR']\n",
    "#df = df[df['BIN'] != ' ']\n",
    "\n",
    "df = df.reset_index(drop=True)\n",
    "print \"new length of df\", len(df)\n",
    "\n",
    "print\n",
    "print \"drop rows with BIN = 0\"\n",
    "df = df[np.isfinite(df['BIN'])]\n",
    "print \"new length of df\", len(df)\n",
    "df[\"BIN\"] = df[\"BIN\"].astype(int)\n",
    "\n",
    "df = df[[\"BIN\", \"Facade Cycle\", \"Number of Stories\", \"Initial Filing Status\", \"Current Status\", \\\n",
    "         \"Initial File Date\", \"Initial File Year\", \"Owner Name\", \"Owner Business Name\", \"Owner Address\", \"Owner City\", \"Owner State\", \\\n",
    "         \"Owner Type\"]]\n",
    "\n",
    "#drop NaN\n",
    "\n",
    "print \n",
    "print \"drop NaN\"\n",
    "print \"length of df before drop\", len(df)\n",
    "df = df.dropna()\n",
    "print \"length of df after drop\", len(df)\n",
    "\n",
    "df = df.reset_index(drop=True)\n",
    "\n",
    "#drop data before 2005\n",
    "print\n",
    "\"\"\"\n",
    "print \"drop all data before 2006\"\n",
    "print \"length before drop\", len(df)\n",
    "print \"drop nan first\"\n",
    "df = df[df['Initial File Year'] != 'nan']\n",
    "print \"length after drop nan\", len(df)\n",
    "df[\"Initial File Year\"] = df[\"Initial File Year\"].astype(int)\n",
    "df = df[df[\"Initial File Year\"] >= 2006]\n",
    "print \"length after drop year\", len(df)\n",
    "\"\"\"\n",
    "\n",
    "\n",
    "df = df.reset_index(drop=True)\n"
   ]
  },
  {
   "cell_type": "code",
   "execution_count": 180,
   "metadata": {
    "collapsed": true
   },
   "outputs": [],
   "source": [
    "df = df.rename(columns={'Current Status': 'Status'})"
   ]
  },
  {
   "cell_type": "code",
   "execution_count": null,
   "metadata": {
    "collapsed": true
   },
   "outputs": [],
   "source": [
    "df.to_csv(\"S:\\\\Office of Risk Management\\\\User Folders\\\\Darius Mehri\\\\Facade Predictive Analysis\\\\Cycle 5-8 Non DOB NOW Facade Filings (11-22-16) EDIT 3.csv\")"
   ]
  },
  {
   "cell_type": "code",
   "execution_count": null,
   "metadata": {
    "collapsed": false
   },
   "outputs": [],
   "source": [
    "df.dtypes"
   ]
  },
  {
   "cell_type": "code",
   "execution_count": null,
   "metadata": {
    "collapsed": false
   },
   "outputs": [],
   "source": [
    "df.head()"
   ]
  },
  {
   "cell_type": "code",
   "execution_count": 200,
   "metadata": {
    "collapsed": false
   },
   "outputs": [],
   "source": [
    "df[\"Status\"] =\"\"\n",
    "\n",
    "df = df.reset_index(drop=True)\n",
    "\n",
    "\n",
    "#get set of bins\n",
    "bin_list = []\n",
    "\n",
    "for i in range(0, len(df)):\n",
    "    bin_list.append(df[\"BIN\"][i])\n",
    "    \n",
    "bin_set = set(bin_list)\n",
    "bin_set = list(bin_set)\n",
    "#bin_set"
   ]
  },
  {
   "cell_type": "code",
   "execution_count": 201,
   "metadata": {
    "collapsed": false
   },
   "outputs": [
    {
     "data": {
      "text/plain": [
       "['SW', 'UN', 'OK']"
      ]
     },
     "execution_count": 201,
     "metadata": {},
     "output_type": "execute_result"
    }
   ],
   "source": [
    "status_list = []\n",
    "\n",
    "for i in range(0, len(df)):\n",
    "    status_list.append(df[\"Initial Filing Status\"][i])\n",
    "    \n",
    "status_set = set(status_list)\n",
    "status_set = list(status_set)\n",
    "status_set"
   ]
  },
  {
   "cell_type": "code",
   "execution_count": 202,
   "metadata": {
    "collapsed": false
   },
   "outputs": [
    {
     "name": "stdout",
     "output_type": "stream",
     "text": [
      "0\n",
      "1000\n",
      "2000\n",
      "3000\n",
      "4000\n",
      "5000\n",
      "6000\n",
      "7000\n",
      "8000\n",
      "9000\n",
      "10000\n",
      "11000\n",
      "12000\n",
      "13000\n"
     ]
    }
   ],
   "source": [
    "qn = pd.DataFrame(columns=('BIN','Status', 'Initial File Date'))\n",
    "\n",
    "\n",
    "for i in range(0, len(bin_set)):\n",
    "\n",
    "    if i%1000 == 0:\n",
    "        print i\n",
    "\n",
    "    df2 = df[df[\"BIN\"] == bin_set[i]]\n",
    "    df2 = df2.reset_index(drop=True)\n",
    "    \n",
    "    un = 0\n",
    "    for j in range(0, len(df2)):\n",
    "        if df2[\"Initial Filing Status\"][j] == \"UN\":\n",
    "            status = \"UN\"\n",
    "            initial_file_date = df2[\"Initial File Date\"][j]\n",
    "            un = 1\n",
    "        elif (df2[\"Initial Filing Status\"][j] == \"SW\" and un == 0):\n",
    "            status = \"SW\"\n",
    "            initial_file_date = df2[\"Initial File Date\"][j]\n",
    "\n",
    "        else:\n",
    "            status = df2[\"Initial Filing Status\"][j]\n",
    "            initial_file_date = df2[\"Initial File Date\"][j]\n",
    "\n",
    "    \n",
    "    qn.loc[i] =  [bin_set[i],status, initial_file_date]\n",
    "\n",
    "    #CALCULATE ANY TIME UN OR SW AT ANY TIME OF THE ENTIRE CYCLE HISTORY\n",
    "    \n",
    "    \n",
    "qn[\"BIN\"] = qn[\"BIN\"].astype(int) \n",
    "qn[\"BIN\"] = qn[\"BIN\"].astype(str) "
   ]
  },
  {
   "cell_type": "code",
   "execution_count": null,
   "metadata": {
    "collapsed": false
   },
   "outputs": [],
   "source": [
    "qn[\"Initial File Date\"][2610]"
   ]
  },
  {
   "cell_type": "markdown",
   "metadata": {},
   "source": [
    "# MERGE WITH PLUTO DATA BASED ON BEN'S DATATASET"
   ]
  },
  {
   "cell_type": "code",
   "execution_count": 204,
   "metadata": {
    "collapsed": false
   },
   "outputs": [
    {
     "name": "stdout",
     "output_type": "stream",
     "text": [
      "length of df before dropping zeros 12789\n",
      "count of public buildings 1785\n",
      "count of rent stabalized buildings 4748\n",
      "number of observations in df after dropping 12664\n",
      "difference 125\n",
      "number of landmark buildings 301\n"
     ]
    }
   ],
   "source": [
    "#ben dataset has the building information, the qn dataset has the correct \"safe\" or \"unsafe\" data\n",
    "\n",
    "\n",
    "\n",
    "dfb = pd.read_csv(\"S:\\\\Office of Risk Management\\\\User Folders\\\\Darius Mehri\\\\Facade Predictive Analysis\\\\Cycle 5-8 Non DOB NOW Facade Filings (11-22-16) EDIT 2_PLUTO.csv\", low_memory=False )\n",
    "\n",
    "dfb[\"BIN\"] = dfb[\"BIN\"].astype(str)\n",
    "df[\"BIN\"] = df[\"BIN\"].astype(str)\n",
    "\n",
    "#qn = df\n",
    "\n",
    "merged = pd.merge(qn, dfb)\n",
    "\n",
    "df = merged\n",
    "\n",
    "\n",
    "co = pd.read_csv(\"S:\\\\Office of Risk Management\\\\User Folders\\\\Darius Mehri\\\\Facade Predictive Analysis\\\\City Owned Buildings.csv\")\n",
    "\n",
    "rs = pd.read_csv(\"S:\\\\Office of Risk Management\\\\User Folders\\\\Darius Mehri\\\\Facade Predictive Analysis\\\\Rent Stabilized Buildings 12.22.16_BIN.csv\")\n",
    "\n",
    "#code if publically owned\n",
    "pd.set_option('chained_assignment', None)\n",
    "\n",
    "\n",
    "df[\"Public\"] = \"\"\n",
    "df[\"Rent Stabalized\"] = \"\"\n",
    "\n",
    "df[\"BIN\"] = df[\"BIN\"].astype(str)\n",
    "\n",
    "#create publically owned building set\n",
    "#get set of bins\n",
    "bin_pub = []\n",
    "\n",
    "for i in range(0, len(co)):\n",
    "    bin_pub.append(co[\"BIN\"][i])\n",
    "    \n",
    "bin_pub = set(bin_pub)\n",
    "bin_pub = list(bin_pub)\n",
    "#bin_set\n",
    "\n",
    "#create rent stabalied bin set\n",
    "bin_rs = []\n",
    "for i in range(0, len(rs)):\n",
    "    bin_rs.append(rs[\"BIN\"][i])\n",
    "    \n",
    "bin_rs = set(bin_rs)\n",
    "bin_rs = list(bin_rs)\n",
    "\n",
    "count = 0\n",
    "for i in range(0, len(df)):\n",
    "    if df[\"BIN\"][i] in bin_pub:\n",
    "        df[\"Public\"][i] = 1\n",
    "        #print \"in here\"\n",
    "        count+=1\n",
    "    else:\n",
    "        df[\"Public\"][i] = 0\n",
    "\n",
    "countrs = 0\n",
    "for i in range(0, len(df)):\n",
    "    if df[\"BIN\"][i] in bin_rs:\n",
    "        df[\"Rent Stabalized\"][i] = 1\n",
    "        countrs+=1\n",
    "    else:\n",
    "        df[\"Rent Stabalized\"][i] = 0\n",
    "\n",
    "print \"length of df before dropping zeros\", len(df) \n",
    "before  = len(df)\n",
    "\n",
    "#calculate age\n",
    "df[\"Age\"] = 2016 - df[\"YearBuilt\"]\n",
    "\n",
    "\n",
    "df = df[df[\"NumFloors\"] != 0]\n",
    "df = df[df[\"NumFloors_DOITT\"] != 0]\n",
    "df = df[df[\"YearBuilt\"] != 0]\n",
    "df = df[df[\"Age\"] >= 0]\n",
    "#df = df[df[\"BldgFront\"] != 0]\n",
    "\n",
    "df = df.reset_index(drop=True)\n",
    "\n",
    "\n",
    "#aggregate building class\n",
    "rm_list = ['RA', 'RB', 'RC', 'RD', 'RH', 'RI', 'RK', 'RM', 'RR', 'RX', 'RZ']\n",
    "\n",
    "df[\"BldgClassAgg\"] = \"\"\n",
    "\n",
    "for i in range(0, len(df)):\n",
    "    if df[\"BldgClass\"][i] not in rm_list:\n",
    "        w = list(df[\"BldgClass\"][i])\n",
    "        df[\"BldgClassAgg\"][i] = w[0]\n",
    "    else:\n",
    "        df[\"BldgClassAgg\"][i] = df[\"BldgClass\"][i]\n",
    "\n",
    "df[\"BldgArea\"] = df[\"BldgFront\"]*df[\"BldgDepth\"]\n",
    "        \n",
    "for i in range(0, len(df)):\n",
    "    if df[\"BldgFront\"][i] == 0:\n",
    "        df[\"BldgFront\"][i] = \"\"\n",
    "    if df[\"BldgDepth\"][i] == 0:\n",
    "        df[\"BldgDepth\"][i] = \"\"\n",
    "    if df[\"BldgArea\"][i] == 0:\n",
    "        df[\"BldgArea\"][i] = \"\"  \n",
    "\n",
    "#categorize building unsafe/safe\n",
    "df[\"Status\"] = df[\"Status\"].astype(str)\n",
    "\n",
    "df[\"Status\"] = df[\"Status\"].str.replace('UN', 'UNSAFE')\n",
    "df[\"Status\"] = df[\"Status\"].str.replace('SW', 'SAFE')\n",
    "df[\"Status\"] = df[\"Status\"].str.replace('OK', 'SAFE')\n",
    "#df[\"Status\"] = df[\"Status\"].astype(int)\n",
    "\n",
    "#Landmark\n",
    "df[\"Landmark\"] = df[\"Landmark\"].map(str.strip)\n",
    "df[\"Landmark2\"] = \"\"\n",
    "landmark = 0\n",
    "for i in range(0, len(df)):\n",
    "    s = df[\"Landmark\"][i]\n",
    "    if len(s) > 1:\n",
    "        df[\"Landmark2\"][i] = 1\n",
    "        landmark+=1\n",
    "    else:\n",
    "        df[\"Landmark2\"][i] = 0\n",
    "\n",
    "#put assessed value in millions of dollars\n",
    "df[\"AssessTotal\"] =  df[\"AssessTotal\"]/1000000\n",
    "        \n",
    "print \"count of public buildings\", count\n",
    "print \"count of rent stabalized buildings\", countrs\n",
    "print \"number of observations in df after dropping\", len(df)\n",
    "print \"difference\", (before  - len(df))\n",
    "print \"number of landmark buildings\", landmark"
   ]
  },
  {
   "cell_type": "code",
   "execution_count": 205,
   "metadata": {
    "collapsed": false
   },
   "outputs": [],
   "source": [
    "#Add Facade violations\n",
    "fv = pd.read_csv(\"S:\\\\Office of Risk Management\\\\User Folders\\\\Darius Mehri\\\\Facade Predictive Analysis\\\\Failure to maintain_protect (All years, all classes, REVISED).csv\", low_memory=False )\n",
    "\n",
    "\n",
    "fv[\"Vio Issued Date\"] = pd.to_datetime(fv[\"Vio Issued Date\"])\n",
    "\n",
    "df[\"Initial File Date\"] = pd.to_datetime(df[\"Initial File Date\"])\n",
    "\n",
    "dc = pd.read_csv(\"S:\\\\Office of Risk Management\\\\User Folders\\\\Darius Mehri\\\\Facade Predictive Analysis\\\\Facade, Brickwork, Exterior Wall Complaints.csv\", low_memory=False )\n",
    "\n",
    "dc[\"Date Entered\"] = pd.to_datetime(dc[\"Date Entered\"])\n"
   ]
  },
  {
   "cell_type": "code",
   "execution_count": null,
   "metadata": {
    "collapsed": true
   },
   "outputs": [],
   "source": [
    "fv[\"BIN\"] = fv[\"BIN\"].astype(int)\n",
    "fv[\"BIN\"] = fv[\"BIN\"].astype(str)\n",
    "\n",
    "dc[\"BIN Number\"] = dc[\"BIN Number\"].astype(str)\n",
    "\n",
    "df[\"BIN\"] = df[\"BIN\"].astype(str)\n",
    "\n",
    "#drop the row with Nan for date\n",
    "df = df.drop(df.index[[2611]])\n",
    "df = df.reset_index(drop=True)\n",
    "\n",
    "df[\"Violations\"] = 0\n",
    "df[\"Complaints\"] = 0\n",
    "\n",
    "for i in range(0, len(df)):\n",
    "    #violations\n",
    "    fv2 = fv[fv[\"BIN\"] == df[\"BIN\"][i]]\n",
    "    fv2 = fv2.reset_index(drop=True)\n",
    "    \n",
    "    initial_date = str(df[\"Initial File Date\"][i].month) + '-' + str(df[\"Initial File Date\"][i].day) + '-' + str(df[\"Initial File Date\"][i].year)\n",
    "    \n",
    " \n",
    "    #print \"i=\", i\n",
    "    #print \"initial date\", initial_date\n",
    "    mask = (fv['Vio Issued Date'] < initial_date)\n",
    "\n",
    "    fv2 = fv2.loc[mask] \n",
    "    #fv2 = fv2.reset_index(drop=True)\n",
    "        \n",
    "    df[\"Violations\"][i] = len(fv2)\n",
    "    \n",
    "    \n",
    "    #complaints\n",
    "    dc2 = dc[dc[\"BIN Number\"] == df[\"BIN\"][i]]\n",
    "    dc2 = dc2.reset_index(drop=True)\n",
    "    \n",
    "    #mask = (dc['Date Entered'] < initial_date)\n",
    "    \n",
    "    #dc2 = dc2.loc[mask] \n",
    "\n",
    "    df[\"Complaints\"][i] = len(dc2)\n",
    " \n",
    "    \n",
    "    # if i%2 == 0:\n",
    "    #    print i\n",
    "    #    print initial_date\n",
    "    \n",
    "    if i%500 == 0:\n",
    "        print \"i=\", i\n",
    "        print len(fv2)"
   ]
  },
  {
   "cell_type": "code",
   "execution_count": 207,
   "metadata": {
    "collapsed": false
   },
   "outputs": [],
   "source": [
    "#Add wall surface area\n",
    "\n",
    "dws =  pd.read_csv(\"S:\\\\Office of Risk Management\\\\User Folders\\\\Darius Mehri\\\\Facade Predictive Analysis\\\\WallSurfaceArea.csv\", low_memory=False )\n",
    "\n",
    "dws = dws[[\"bin\", \"WallArea\"]]\n",
    "\n",
    "dws[\"bin\"] = dws[\"bin\"].astype(str)\n",
    "\n",
    "dwsG = (dws.groupby('bin').agg({'WallArea':'sum'}) )\n",
    "\n",
    "dwsG = dwsG.reset_index()\n",
    "\n",
    "dwsDic = dwsG.set_index('bin').to_dict()\n",
    "\n",
    "dwsDic = dwsG.set_index('bin')['WallArea'].to_dict()\n",
    "\n",
    "df[\"WallSurfaceArea\"] = \"\"\n",
    "\n",
    "for i in range(0, len(df)):\n",
    "    if df[\"BIN\"][i] in dwsDic:\n",
    "        df[\"WallSurfaceArea\"][i] = dwsDic[df[\"BIN\"][i]]\n",
    "\n",
    "\n"
   ]
  },
  {
   "cell_type": "code",
   "execution_count": 208,
   "metadata": {
    "collapsed": false
   },
   "outputs": [
    {
     "name": "stdout",
     "output_type": "stream",
     "text": [
      "remove floors less than six\n",
      "original dataframe size 12663\n",
      "dataframe size 12491\n"
     ]
    }
   ],
   "source": [
    "print \"remove floors less than six\"\n",
    "print \"original dataframe size\", len(df)\n",
    "df = df[df[\"NumFloors\"] >= 6]\n",
    "print \"dataframe size\", len(df)\n",
    "\n"
   ]
  },
  {
   "cell_type": "code",
   "execution_count": 41,
   "metadata": {
    "collapsed": false
   },
   "outputs": [
    {
     "name": "stdout",
     "output_type": "stream",
     "text": [
      "20896\n"
     ]
    }
   ],
   "source": [
    "print len(dwsG)"
   ]
  },
  {
   "cell_type": "code",
   "execution_count": null,
   "metadata": {
    "collapsed": false
   },
   "outputs": [],
   "source": [
    "df[\"Initial File Date\"][2611]"
   ]
  },
  {
   "cell_type": "code",
   "execution_count": null,
   "metadata": {
    "collapsed": false
   },
   "outputs": [],
   "source": [
    "df.dtypes"
   ]
  },
  {
   "cell_type": "code",
   "execution_count": null,
   "metadata": {
    "collapsed": false
   },
   "outputs": [],
   "source": [
    "df.head(2)"
   ]
  },
  {
   "cell_type": "code",
   "execution_count": null,
   "metadata": {
    "collapsed": false
   },
   "outputs": [],
   "source": [
    "fv.head(2)"
   ]
  },
  {
   "cell_type": "code",
   "execution_count": 118,
   "metadata": {
    "collapsed": true
   },
   "outputs": [],
   "source": [
    "#EXPORT ONLY PUBLIC BUILDINGS\n",
    "#export = df\n",
    "#export = df[df[\"Public\"] == 1]\n",
    "#export.to_csv(\"S:\\\\Office of Risk Management\\\\User Folders\\\\Darius Mehri\\\\Facade Predictive Analysis\\\\FACADE ANALYSIS DEC TREE 5 PUBLIC.csv\")"
   ]
  },
  {
   "cell_type": "code",
   "execution_count": 191,
   "metadata": {
    "collapsed": false
   },
   "outputs": [],
   "source": [
    "df.to_csv(\"S:\\\\Office of Risk Management\\\\User Folders\\\\Darius Mehri\\\\Facade Predictive Analysis\\\\FACADE ANALYSIS DEC TREE 6 CURRENT STATUS.csv\")"
   ]
  },
  {
   "cell_type": "code",
   "execution_count": null,
   "metadata": {
    "collapsed": true
   },
   "outputs": [],
   "source": [
    "df.to_csv(\"S:\\\\Office of Risk Management\\\\User Folders\\\\Darius Mehri\\\\Facade Predictive Analysis\\\\test.csv\")"
   ]
  },
  {
   "cell_type": "code",
   "execution_count": null,
   "metadata": {
    "collapsed": false
   },
   "outputs": [],
   "source": [
    "df.describe().transpose()"
   ]
  },
  {
   "cell_type": "code",
   "execution_count": null,
   "metadata": {
    "collapsed": false
   },
   "outputs": [],
   "source": [
    "df.dtypes"
   ]
  },
  {
   "cell_type": "code",
   "execution_count": null,
   "metadata": {
    "collapsed": false
   },
   "outputs": [],
   "source": [
    "qn.to_csv(\"S:\\\\Office of Risk Management\\\\User Folders\\\\Darius Mehri\\\\Facade Predictive Analysis\\\\test.csv\")"
   ]
  },
  {
   "cell_type": "code",
   "execution_count": null,
   "metadata": {
    "collapsed": false,
    "scrolled": true
   },
   "outputs": [],
   "source": [
    "df.dtypes"
   ]
  },
  {
   "cell_type": "code",
   "execution_count": null,
   "metadata": {
    "collapsed": true
   },
   "outputs": [],
   "source": [
    "#df = df[[\"Facade Cycle\", \"\"]]"
   ]
  },
  {
   "cell_type": "code",
   "execution_count": null,
   "metadata": {
    "collapsed": true
   },
   "outputs": [],
   "source": [
    "df"
   ]
  },
  {
   "cell_type": "markdown",
   "metadata": {},
   "source": [
    "# RECODE MAIN VARIABLES OF INTEREST"
   ]
  },
  {
   "cell_type": "code",
   "execution_count": 193,
   "metadata": {
    "collapsed": false
   },
   "outputs": [],
   "source": [
    "df = df.reset_index(drop=True)\n",
    "\n",
    "\n",
    "\n",
    "df[\"YearBuiltCategory\"] = \"\"\n",
    "df[\"AssessTotalCategory\"] = \"\"\n",
    "df[\"NumFloorsCategory\"] = \"\"\n",
    "\n",
    "for i in range (0, len(df)):\n",
    "    if df[\"YearBuilt\"][i] < 1900:\n",
    "        df[\"YearBuiltCategory\"][i] = \"pre-1900\"\n",
    "        \n",
    "    if (df[\"YearBuilt\"][i] >= 1900 and df[\"YearBuilt\"][i] < 1916):\n",
    "        df[\"YearBuiltCategory\"][i] = \"1900-1915\"\n",
    "        \n",
    "    if (df[\"YearBuilt\"][i] >= 1916 and df[\"YearBuilt\"][i] < 1938):\n",
    "        df[\"YearBuiltCategory\"][i] = \"1916-1937\"\n",
    "        \n",
    "    if (df[\"YearBuilt\"][i] >= 1938 and df[\"YearBuilt\"][i] < 1968):\n",
    "        df[\"YearBuiltCategory\"][i] = \"1938-1967\"\n",
    "        \n",
    "    if (df[\"YearBuilt\"][i] >= 1968 and df[\"YearBuilt\"][i] < 2008):\n",
    "        df[\"YearBuiltCategory\"][i] = \"1968-2007\"\n",
    "        \n",
    "    if (df[\"YearBuilt\"][i] >= 2008 and df[\"YearBuilt\"][i] < 2017):\n",
    "        df[\"YearBuiltCategory\"][i] = \"2008-2016\"\n",
    "        \n",
    "    \n",
    "    if df[\"AssessTotal\"][i] < 10:\n",
    "        df[\"AssessTotalCategory\"][i] = \"Low Value\"\n",
    "        \n",
    "    if (df[\"AssessTotal\"][i] >= 10 and df[\"AssessTotal\"][i] < 20):\n",
    "        df[\"AssessTotalCategory\"][i] = \"Medium Value\"\n",
    "        \n",
    "    if df[\"AssessTotal\"][i] >= 20:\n",
    "        df[\"AssessTotalCategory\"][i] = \"High Value\"\n",
    "        \n",
    "        \n",
    "    if df[\"NumFloors\"][i] < 10:\n",
    "        df[\"NumFloorsCategory\"][i] = \"Low Rise\"\n",
    "        \n",
    "    if df[\"NumFloors\"][i] >= 10:\n",
    "        df[\"NumFloorsCategory\"][i] = \"High Rise\"\n",
    "        \n",
    "  \n",
    "    \n",
    "    "
   ]
  },
  {
   "cell_type": "code",
   "execution_count": 196,
   "metadata": {
    "collapsed": false
   },
   "outputs": [
    {
     "name": "stdout",
     "output_type": "stream",
     "text": [
      "length before drop 21464\n",
      "length after drop 9830\n"
     ]
    }
   ],
   "source": [
    "#subset for facade cycle, want all of cycle 7, last complete cycle\n",
    "df[\"Facade Cycle\"] = df[\"Facade Cycle\"].astype(str)\n",
    "\n",
    "print \"length before drop\", len(df)\n",
    "\n",
    "df = df[df[\"Facade Cycle\"] != '5']\n",
    "df = df[df[\"Facade Cycle\"] != '6']\n",
    "df = df[df[\"Facade Cycle\"] != '8A']\n",
    "df = df[df[\"Facade Cycle\"] != '8B']\n",
    "df = df[df[\"Facade Cycle\"] != '8C']\n",
    "\n",
    "df = df.reset_index(drop=True)\n",
    "\n",
    "print \"length after drop\", len(df)"
   ]
  },
  {
   "cell_type": "code",
   "execution_count": 198,
   "metadata": {
    "collapsed": true
   },
   "outputs": [],
   "source": [
    "df.to_csv(\"S:\\\\Office of Risk Management\\\\User Folders\\\\Darius Mehri\\\\Facade Predictive Analysis\\\\FACADE ANALYSIS DEC TREE 6 CURRENT STATUS.csv\")"
   ]
  },
  {
   "cell_type": "markdown",
   "metadata": {},
   "source": [
    "# Code PLUTO Data for Status, Complaints and Public"
   ]
  },
  {
   "cell_type": "code",
   "execution_count": 209,
   "metadata": {
    "collapsed": false
   },
   "outputs": [
    {
     "name": "stdout",
     "output_type": "stream",
     "text": [
      "remove floors less than six\n",
      "original dataframe size 1124645\n",
      "dataframe size 28597\n"
     ]
    }
   ],
   "source": [
    "dfpluto = pd.read_csv(\"S:\\\\Office of Risk Management\\\\User Folders\\\\Darius Mehri\\\\PLUTO\\\\MapPLUTO_BINs_1toManyJOIN.csv\", low_memory=False )\n",
    "\n",
    "print \"remove floors less than six\"\n",
    "print \"original dataframe size\", len(dfpluto)\n",
    "dfpluto = dfpluto[dfpluto[\"NumFloors\"] >= 6]\n",
    "print \"dataframe size\", len(dfpluto)\n",
    "dfpluto = dfpluto.reset_index(drop=True)\n"
   ]
  },
  {
   "cell_type": "code",
   "execution_count": 210,
   "metadata": {
    "collapsed": false
   },
   "outputs": [
    {
     "name": "stdout",
     "output_type": "stream",
     "text": [
      "count of buildings labeled unsafe or safe 12082\n"
     ]
    },
    {
     "data": {
      "text/plain": [
       "'\\n#complaints\\ncount = 0\\ndfcDic = df.set_index(\\'BIN\\')[\\'Complaints\\'].to_dict()\\nfor i in range(0, len(dfpluto)):\\n    if dfpluto[\"bin\"][i] in dfcDic:\\n        count+=1\\n        dfpluto[\"Complaint\"][i] = dfcDic[dfpluto[\"bin\"][i]]\\n\\nprint \"count of buildings with complaints\", count\\n\\n\\n\\nprint \"total number of complaints in pluto\", count\\n\\nbin_pub\\n\\n#public\\ncount=0\\nfor i in range(0, len(dfpluto)):\\n    if dfpluto[\"bin\"][i] in bin_pub:\\n        count+=1\\n        dfpluto[\"Public\"][i] = 1\\nprint \"total number of public b in pluto\", count\\n'"
      ]
     },
     "execution_count": 210,
     "metadata": {},
     "output_type": "execute_result"
    }
   ],
   "source": [
    "dfpluto = dfpluto.reset_index(drop=True)\n",
    "df = df.reset_index(drop=True)\n",
    "\n",
    "\n",
    "dfpluto[\"Status\"] = \"\"\n",
    "#dfpluto[\"Complaint\"] = 0\n",
    "#dfpluto[\"Public\"] = 0\n",
    "\n",
    "dfpluto[\"bin\"] = dfpluto[\"bin\"].astype(int)\n",
    "dfpluto[\"bin\"] = dfpluto[\"bin\"].astype(str)\n",
    "\n",
    "\n",
    "dfunDic = df.set_index('BIN')['Status'].to_dict()\n",
    "\n",
    "count=0\n",
    "for i in range(0, len(dfpluto)):\n",
    "    if dfpluto[\"bin\"][i] in dfunDic:\n",
    "        count+=1\n",
    "        dfpluto[\"Status\"][i] = dfunDic[dfpluto[\"bin\"][i]]\n",
    "\n",
    "print \"count of buildings labeled unsafe or safe\", count\n",
    "\n",
    "\n",
    "\"\"\"\n",
    "#complaints\n",
    "count = 0\n",
    "dfcDic = df.set_index('BIN')['Complaints'].to_dict()\n",
    "for i in range(0, len(dfpluto)):\n",
    "    if dfpluto[\"bin\"][i] in dfcDic:\n",
    "        count+=1\n",
    "        dfpluto[\"Complaint\"][i] = dfcDic[dfpluto[\"bin\"][i]]\n",
    "\n",
    "print \"count of buildings with complaints\", count\n",
    "\n",
    "\n",
    "\n",
    "print \"total number of complaints in pluto\", count\n",
    "\n",
    "bin_pub\n",
    "\n",
    "#public\n",
    "count=0\n",
    "for i in range(0, len(dfpluto)):\n",
    "    if dfpluto[\"bin\"][i] in bin_pub:\n",
    "        count+=1\n",
    "        dfpluto[\"Public\"][i] = 1\n",
    "print \"total number of public b in pluto\", count\n",
    "\"\"\""
   ]
  },
  {
   "cell_type": "code",
   "execution_count": 211,
   "metadata": {
    "collapsed": true
   },
   "outputs": [],
   "source": [
    "#subset data\n",
    "#export = dfpluto[[\"bin\", \"Address\", \"Borough\", \"OwnerName\", \"NumFloors\", \"num_floors\", \"BldgFront\", \"AssessTot\", \"YearBuilt\",\"Status\", \"Complaint\", \"Public\", \"XCoord\", \"YCoord\"]]\n",
    "export = dfpluto[[\"bin\", \"Address\", \"Borough\", \"OwnerName\", \"NumFloors\", \"num_floors\", \"BldgFront\", \"AssessTot\", \"YearBuilt\",\"Status\", \"XCoord\", \"YCoord\"]]\n",
    "\n",
    "export[\"Age\"] = 2016 - export[\"YearBuilt\"]\n",
    "export[\"AssessTot\"] = export[\"AssessTot\"].astype(float)\n",
    "export[\"AssesTot(Million)\"] = export[\"AssessTot\"]/1000000.0"
   ]
  },
  {
   "cell_type": "code",
   "execution_count": 164,
   "metadata": {
    "collapsed": false
   },
   "outputs": [],
   "source": [
    "#Recode Pluto data\n",
    "export[\"YearBuiltCategory\"] = \"\"\n",
    "export[\"AssessTotalCategory\"] = \"\"\n",
    "export[\"NumFloorsCategory\"] = \"\"\n",
    "\n",
    "for i in range (0, len(export)):\n",
    "    if export[\"YearBuilt\"][i] < 1900:\n",
    "        export[\"YearBuiltCategory\"][i] = \"pre-1900\"\n",
    "        \n",
    "    if (export[\"YearBuilt\"][i] >= 1900 and export[\"YearBuilt\"][i] < 1916):\n",
    "        export[\"YearBuiltCategory\"][i] = \"1900-1915\"\n",
    "        \n",
    "    if (export[\"YearBuilt\"][i] >= 1916 and export[\"YearBuilt\"][i] < 1938):\n",
    "        export[\"YearBuiltCategory\"][i] = \"1916-1937\"\n",
    "        \n",
    "    if (export[\"YearBuilt\"][i] >= 1938 and export[\"YearBuilt\"][i] < 1968):\n",
    "        export[\"YearBuiltCategory\"][i] = \"1938-1967\"\n",
    "        \n",
    "    if (export[\"YearBuilt\"][i] >= 1968 and export[\"YearBuilt\"][i] < 2008):\n",
    "        export[\"YearBuiltCategory\"][i] = \"1968-2007\"\n",
    "        \n",
    "    if (export[\"YearBuilt\"][i] >= 2008 and export[\"YearBuilt\"][i] < 2017):\n",
    "        export[\"YearBuiltCategory\"][i] = \"2008-2016\"\n",
    "        \n",
    "    \n",
    "    if export[\"AssesTot(Million)\"][i] < 10:\n",
    "        export[\"AssessTotalCategory\"][i] = \"Low Value\"\n",
    "        \n",
    "    if (export[\"AssesTot(Million)\"][i] >= 10 and export[\"AssesTot(Million)\"][i] < 20):\n",
    "        export[\"AssessTotalCategory\"][i] = \"Medium Value\"\n",
    "        \n",
    "    if export[\"AssesTot(Million)\"][i] >= 20:\n",
    "        export[\"AssessTotalCategory\"][i] = \"High Value\"\n",
    "        \n",
    "        \n",
    "    if export[\"NumFloors\"][i] < 10:\n",
    "        export[\"NumFloorsCategory\"][i] = \"Low Rise\"\n",
    "        \n",
    "    if export[\"NumFloors\"][i] >= 10:\n",
    "        export[\"NumFloorsCategory\"][i] = \"High Rise\"\n",
    "        \n"
   ]
  },
  {
   "cell_type": "code",
   "execution_count": 166,
   "metadata": {
    "collapsed": false
   },
   "outputs": [
    {
     "name": "stdout",
     "output_type": "stream",
     "text": [
      "length befor drop 28597\n",
      "length after drop 12199\n"
     ]
    }
   ],
   "source": [
    "#DROP STATUS = NA\n",
    "print \"length befor drop\", len(export)\n",
    "export = export[export[\"Status\"] != \"\"]\n",
    "print \"length after drop\", len(export)\n",
    "\n",
    "#print \"drop owner name = NA\"\n"
   ]
  },
  {
   "cell_type": "code",
   "execution_count": 90,
   "metadata": {
    "collapsed": true
   },
   "outputs": [],
   "source": [
    "#export pluto validation dataset\n",
    "#dfpluto.to_csv(\"S:\\\\Office of Risk Management\\\\User Folders\\\\Darius Mehri\\\\Facade Predictive Analysis\\\\PLUTO VALIDATION DATA.csv\")"
   ]
  },
  {
   "cell_type": "code",
   "execution_count": 132,
   "metadata": {
    "collapsed": false
   },
   "outputs": [],
   "source": []
  },
  {
   "cell_type": "code",
   "execution_count": 133,
   "metadata": {
    "collapsed": false
   },
   "outputs": [],
   "source": []
  },
  {
   "cell_type": "code",
   "execution_count": 213,
   "metadata": {
    "collapsed": false
   },
   "outputs": [],
   "source": [
    "export.to_csv(\"S:\\\\Office of Risk Management\\\\User Folders\\\\Darius Mehri\\\\Facade Predictive Analysis\\\\PLUTO VALIDATION DATA 2.csv\")"
   ]
  },
  {
   "cell_type": "markdown",
   "metadata": {},
   "source": [
    "# PLUTO SUMMARY STATS ON SAFE/UNSAFE BUILDINGS"
   ]
  },
  {
   "cell_type": "code",
   "execution_count": 138,
   "metadata": {
    "collapsed": false
   },
   "outputs": [
    {
     "name": "stdout",
     "output_type": "stream",
     "text": [
      "2459\n"
     ]
    }
   ],
   "source": [
    "exportUN  = export[export['Status'] == 'UNSAFE']\n",
    "print len(exportUN)\n"
   ]
  },
  {
   "cell_type": "code",
   "execution_count": 139,
   "metadata": {
    "collapsed": false,
    "scrolled": true
   },
   "outputs": [
    {
     "data": {
      "text/html": [
       "<div>\n",
       "<table border=\"1\" class=\"dataframe\">\n",
       "  <thead>\n",
       "    <tr style=\"text-align: right;\">\n",
       "      <th></th>\n",
       "      <th>count</th>\n",
       "      <th>mean</th>\n",
       "      <th>std</th>\n",
       "      <th>min</th>\n",
       "      <th>25%</th>\n",
       "      <th>50%</th>\n",
       "      <th>75%</th>\n",
       "      <th>max</th>\n",
       "    </tr>\n",
       "  </thead>\n",
       "  <tbody>\n",
       "    <tr>\n",
       "      <th>NumFloors</th>\n",
       "      <td>2459.0</td>\n",
       "      <td>1.227410e+01</td>\n",
       "      <td>7.537194e+00</td>\n",
       "      <td>6.00000</td>\n",
       "      <td>7.000000e+00</td>\n",
       "      <td>1.000000e+01</td>\n",
       "      <td>1.500000e+01</td>\n",
       "      <td>8.800000e+01</td>\n",
       "    </tr>\n",
       "    <tr>\n",
       "      <th>num_floors</th>\n",
       "      <td>2459.0</td>\n",
       "      <td>1.226881e+01</td>\n",
       "      <td>7.537385e+00</td>\n",
       "      <td>6.00000</td>\n",
       "      <td>7.000000e+00</td>\n",
       "      <td>1.000000e+01</td>\n",
       "      <td>1.500000e+01</td>\n",
       "      <td>8.800000e+01</td>\n",
       "    </tr>\n",
       "    <tr>\n",
       "      <th>BldgFront</th>\n",
       "      <td>2459.0</td>\n",
       "      <td>1.286048e+02</td>\n",
       "      <td>1.238786e+02</td>\n",
       "      <td>0.00000</td>\n",
       "      <td>5.000000e+01</td>\n",
       "      <td>1.000000e+02</td>\n",
       "      <td>1.665000e+02</td>\n",
       "      <td>1.160000e+03</td>\n",
       "    </tr>\n",
       "    <tr>\n",
       "      <th>AssessTot</th>\n",
       "      <td>2459.0</td>\n",
       "      <td>1.700808e+07</td>\n",
       "      <td>3.144390e+07</td>\n",
       "      <td>204750.00000</td>\n",
       "      <td>3.205125e+06</td>\n",
       "      <td>9.031050e+06</td>\n",
       "      <td>1.727078e+07</td>\n",
       "      <td>3.834945e+08</td>\n",
       "    </tr>\n",
       "    <tr>\n",
       "      <th>YearBuilt</th>\n",
       "      <td>2459.0</td>\n",
       "      <td>1.944390e+03</td>\n",
       "      <td>2.427285e+01</td>\n",
       "      <td>1836.00000</td>\n",
       "      <td>1.925000e+03</td>\n",
       "      <td>1.950000e+03</td>\n",
       "      <td>1.963000e+03</td>\n",
       "      <td>2.014000e+03</td>\n",
       "    </tr>\n",
       "    <tr>\n",
       "      <th>Complaint</th>\n",
       "      <td>2459.0</td>\n",
       "      <td>9.150061e-01</td>\n",
       "      <td>8.146433e-01</td>\n",
       "      <td>0.00000</td>\n",
       "      <td>0.000000e+00</td>\n",
       "      <td>1.000000e+00</td>\n",
       "      <td>1.000000e+00</td>\n",
       "      <td>7.000000e+00</td>\n",
       "    </tr>\n",
       "    <tr>\n",
       "      <th>Public</th>\n",
       "      <td>2459.0</td>\n",
       "      <td>3.574624e-01</td>\n",
       "      <td>4.793501e-01</td>\n",
       "      <td>0.00000</td>\n",
       "      <td>0.000000e+00</td>\n",
       "      <td>0.000000e+00</td>\n",
       "      <td>1.000000e+00</td>\n",
       "      <td>1.000000e+00</td>\n",
       "    </tr>\n",
       "    <tr>\n",
       "      <th>XCoord</th>\n",
       "      <td>2459.0</td>\n",
       "      <td>9.995872e+05</td>\n",
       "      <td>1.606151e+04</td>\n",
       "      <td>937004.00000</td>\n",
       "      <td>9.885355e+05</td>\n",
       "      <td>9.969250e+05</td>\n",
       "      <td>1.006946e+06</td>\n",
       "      <td>1.064964e+06</td>\n",
       "    </tr>\n",
       "    <tr>\n",
       "      <th>YCoord</th>\n",
       "      <td>2459.0</td>\n",
       "      <td>2.120335e+05</td>\n",
       "      <td>2.615576e+04</td>\n",
       "      <td>147779.00000</td>\n",
       "      <td>1.965280e+05</td>\n",
       "      <td>2.131010e+05</td>\n",
       "      <td>2.310925e+05</td>\n",
       "      <td>2.705570e+05</td>\n",
       "    </tr>\n",
       "    <tr>\n",
       "      <th>Age</th>\n",
       "      <td>2459.0</td>\n",
       "      <td>7.160960e+01</td>\n",
       "      <td>2.427285e+01</td>\n",
       "      <td>2.00000</td>\n",
       "      <td>5.300000e+01</td>\n",
       "      <td>6.600000e+01</td>\n",
       "      <td>9.100000e+01</td>\n",
       "      <td>1.800000e+02</td>\n",
       "    </tr>\n",
       "    <tr>\n",
       "      <th>AssesTot(Million)</th>\n",
       "      <td>2459.0</td>\n",
       "      <td>1.700808e+01</td>\n",
       "      <td>3.144390e+01</td>\n",
       "      <td>0.20475</td>\n",
       "      <td>3.205125e+00</td>\n",
       "      <td>9.031050e+00</td>\n",
       "      <td>1.727078e+01</td>\n",
       "      <td>3.834945e+02</td>\n",
       "    </tr>\n",
       "  </tbody>\n",
       "</table>\n",
       "</div>"
      ],
      "text/plain": [
       "                    count          mean           std           min  \\\n",
       "NumFloors          2459.0  1.227410e+01  7.537194e+00       6.00000   \n",
       "num_floors         2459.0  1.226881e+01  7.537385e+00       6.00000   \n",
       "BldgFront          2459.0  1.286048e+02  1.238786e+02       0.00000   \n",
       "AssessTot          2459.0  1.700808e+07  3.144390e+07  204750.00000   \n",
       "YearBuilt          2459.0  1.944390e+03  2.427285e+01    1836.00000   \n",
       "Complaint          2459.0  9.150061e-01  8.146433e-01       0.00000   \n",
       "Public             2459.0  3.574624e-01  4.793501e-01       0.00000   \n",
       "XCoord             2459.0  9.995872e+05  1.606151e+04  937004.00000   \n",
       "YCoord             2459.0  2.120335e+05  2.615576e+04  147779.00000   \n",
       "Age                2459.0  7.160960e+01  2.427285e+01       2.00000   \n",
       "AssesTot(Million)  2459.0  1.700808e+01  3.144390e+01       0.20475   \n",
       "\n",
       "                            25%           50%           75%           max  \n",
       "NumFloors          7.000000e+00  1.000000e+01  1.500000e+01  8.800000e+01  \n",
       "num_floors         7.000000e+00  1.000000e+01  1.500000e+01  8.800000e+01  \n",
       "BldgFront          5.000000e+01  1.000000e+02  1.665000e+02  1.160000e+03  \n",
       "AssessTot          3.205125e+06  9.031050e+06  1.727078e+07  3.834945e+08  \n",
       "YearBuilt          1.925000e+03  1.950000e+03  1.963000e+03  2.014000e+03  \n",
       "Complaint          0.000000e+00  1.000000e+00  1.000000e+00  7.000000e+00  \n",
       "Public             0.000000e+00  0.000000e+00  1.000000e+00  1.000000e+00  \n",
       "XCoord             9.885355e+05  9.969250e+05  1.006946e+06  1.064964e+06  \n",
       "YCoord             1.965280e+05  2.131010e+05  2.310925e+05  2.705570e+05  \n",
       "Age                5.300000e+01  6.600000e+01  9.100000e+01  1.800000e+02  \n",
       "AssesTot(Million)  3.205125e+00  9.031050e+00  1.727078e+01  3.834945e+02  "
      ]
     },
     "execution_count": 139,
     "metadata": {},
     "output_type": "execute_result"
    }
   ],
   "source": [
    "exportUN.describe().transpose()"
   ]
  },
  {
   "cell_type": "code",
   "execution_count": 140,
   "metadata": {
    "collapsed": false
   },
   "outputs": [
    {
     "name": "stdout",
     "output_type": "stream",
     "text": [
      "9740\n"
     ]
    }
   ],
   "source": [
    "exportS  = export[export['Status'] == 'SAFE']\n",
    "print len(exportS)\n"
   ]
  },
  {
   "cell_type": "code",
   "execution_count": 141,
   "metadata": {
    "collapsed": false
   },
   "outputs": [
    {
     "data": {
      "text/html": [
       "<div>\n",
       "<table border=\"1\" class=\"dataframe\">\n",
       "  <thead>\n",
       "    <tr style=\"text-align: right;\">\n",
       "      <th></th>\n",
       "      <th>count</th>\n",
       "      <th>mean</th>\n",
       "      <th>std</th>\n",
       "      <th>min</th>\n",
       "      <th>25%</th>\n",
       "      <th>50%</th>\n",
       "      <th>75%</th>\n",
       "      <th>max</th>\n",
       "    </tr>\n",
       "  </thead>\n",
       "  <tbody>\n",
       "    <tr>\n",
       "      <th>NumFloors</th>\n",
       "      <td>9740.0</td>\n",
       "      <td>1.222387e+01</td>\n",
       "      <td>8.414880e+00</td>\n",
       "      <td>6.000000</td>\n",
       "      <td>6.000000e+00</td>\n",
       "      <td>9.000000e+00</td>\n",
       "      <td>1.500000e+01</td>\n",
       "      <td>8.500000e+01</td>\n",
       "    </tr>\n",
       "    <tr>\n",
       "      <th>num_floors</th>\n",
       "      <td>9740.0</td>\n",
       "      <td>1.221417e+01</td>\n",
       "      <td>8.419895e+00</td>\n",
       "      <td>0.000000</td>\n",
       "      <td>6.000000e+00</td>\n",
       "      <td>9.000000e+00</td>\n",
       "      <td>1.500000e+01</td>\n",
       "      <td>8.500000e+01</td>\n",
       "    </tr>\n",
       "    <tr>\n",
       "      <th>BldgFront</th>\n",
       "      <td>9740.0</td>\n",
       "      <td>1.171782e+02</td>\n",
       "      <td>1.624570e+02</td>\n",
       "      <td>0.000000</td>\n",
       "      <td>5.000000e+01</td>\n",
       "      <td>9.700000e+01</td>\n",
       "      <td>1.540000e+02</td>\n",
       "      <td>7.538000e+03</td>\n",
       "    </tr>\n",
       "    <tr>\n",
       "      <th>AssessTot</th>\n",
       "      <td>9740.0</td>\n",
       "      <td>2.155496e+07</td>\n",
       "      <td>5.553119e+07</td>\n",
       "      <td>27093.000000</td>\n",
       "      <td>2.579850e+06</td>\n",
       "      <td>6.547275e+06</td>\n",
       "      <td>1.719405e+07</td>\n",
       "      <td>9.069332e+08</td>\n",
       "    </tr>\n",
       "    <tr>\n",
       "      <th>YearBuilt</th>\n",
       "      <td>9740.0</td>\n",
       "      <td>1.943546e+03</td>\n",
       "      <td>2.787146e+01</td>\n",
       "      <td>1846.000000</td>\n",
       "      <td>1.922000e+03</td>\n",
       "      <td>1.940000e+03</td>\n",
       "      <td>1.962000e+03</td>\n",
       "      <td>2.015000e+03</td>\n",
       "    </tr>\n",
       "    <tr>\n",
       "      <th>Complaint</th>\n",
       "      <td>9740.0</td>\n",
       "      <td>1.991786e-01</td>\n",
       "      <td>5.326966e-01</td>\n",
       "      <td>0.000000</td>\n",
       "      <td>0.000000e+00</td>\n",
       "      <td>0.000000e+00</td>\n",
       "      <td>0.000000e+00</td>\n",
       "      <td>8.000000e+00</td>\n",
       "    </tr>\n",
       "    <tr>\n",
       "      <th>Public</th>\n",
       "      <td>9740.0</td>\n",
       "      <td>8.367556e-02</td>\n",
       "      <td>2.769149e-01</td>\n",
       "      <td>0.000000</td>\n",
       "      <td>0.000000e+00</td>\n",
       "      <td>0.000000e+00</td>\n",
       "      <td>0.000000e+00</td>\n",
       "      <td>1.000000e+00</td>\n",
       "    </tr>\n",
       "    <tr>\n",
       "      <th>XCoord</th>\n",
       "      <td>9740.0</td>\n",
       "      <td>9.971551e+05</td>\n",
       "      <td>3.971499e+04</td>\n",
       "      <td>0.000000</td>\n",
       "      <td>9.882332e+05</td>\n",
       "      <td>9.937120e+05</td>\n",
       "      <td>1.004653e+06</td>\n",
       "      <td>1.065288e+06</td>\n",
       "    </tr>\n",
       "    <tr>\n",
       "      <th>YCoord</th>\n",
       "      <td>9740.0</td>\n",
       "      <td>2.147613e+05</td>\n",
       "      <td>2.335464e+04</td>\n",
       "      <td>0.000000</td>\n",
       "      <td>2.047928e+05</td>\n",
       "      <td>2.147150e+05</td>\n",
       "      <td>2.266412e+05</td>\n",
       "      <td>2.721550e+05</td>\n",
       "    </tr>\n",
       "    <tr>\n",
       "      <th>Age</th>\n",
       "      <td>9740.0</td>\n",
       "      <td>7.245370e+01</td>\n",
       "      <td>2.787146e+01</td>\n",
       "      <td>1.000000</td>\n",
       "      <td>5.400000e+01</td>\n",
       "      <td>7.600000e+01</td>\n",
       "      <td>9.400000e+01</td>\n",
       "      <td>1.700000e+02</td>\n",
       "    </tr>\n",
       "    <tr>\n",
       "      <th>AssesTot(Million)</th>\n",
       "      <td>9740.0</td>\n",
       "      <td>2.155496e+01</td>\n",
       "      <td>5.553119e+01</td>\n",
       "      <td>0.027093</td>\n",
       "      <td>2.579850e+00</td>\n",
       "      <td>6.547275e+00</td>\n",
       "      <td>1.719405e+01</td>\n",
       "      <td>9.069332e+02</td>\n",
       "    </tr>\n",
       "  </tbody>\n",
       "</table>\n",
       "</div>"
      ],
      "text/plain": [
       "                    count          mean           std           min  \\\n",
       "NumFloors          9740.0  1.222387e+01  8.414880e+00      6.000000   \n",
       "num_floors         9740.0  1.221417e+01  8.419895e+00      0.000000   \n",
       "BldgFront          9740.0  1.171782e+02  1.624570e+02      0.000000   \n",
       "AssessTot          9740.0  2.155496e+07  5.553119e+07  27093.000000   \n",
       "YearBuilt          9740.0  1.943546e+03  2.787146e+01   1846.000000   \n",
       "Complaint          9740.0  1.991786e-01  5.326966e-01      0.000000   \n",
       "Public             9740.0  8.367556e-02  2.769149e-01      0.000000   \n",
       "XCoord             9740.0  9.971551e+05  3.971499e+04      0.000000   \n",
       "YCoord             9740.0  2.147613e+05  2.335464e+04      0.000000   \n",
       "Age                9740.0  7.245370e+01  2.787146e+01      1.000000   \n",
       "AssesTot(Million)  9740.0  2.155496e+01  5.553119e+01      0.027093   \n",
       "\n",
       "                            25%           50%           75%           max  \n",
       "NumFloors          6.000000e+00  9.000000e+00  1.500000e+01  8.500000e+01  \n",
       "num_floors         6.000000e+00  9.000000e+00  1.500000e+01  8.500000e+01  \n",
       "BldgFront          5.000000e+01  9.700000e+01  1.540000e+02  7.538000e+03  \n",
       "AssessTot          2.579850e+06  6.547275e+06  1.719405e+07  9.069332e+08  \n",
       "YearBuilt          1.922000e+03  1.940000e+03  1.962000e+03  2.015000e+03  \n",
       "Complaint          0.000000e+00  0.000000e+00  0.000000e+00  8.000000e+00  \n",
       "Public             0.000000e+00  0.000000e+00  0.000000e+00  1.000000e+00  \n",
       "XCoord             9.882332e+05  9.937120e+05  1.004653e+06  1.065288e+06  \n",
       "YCoord             2.047928e+05  2.147150e+05  2.266412e+05  2.721550e+05  \n",
       "Age                5.400000e+01  7.600000e+01  9.400000e+01  1.700000e+02  \n",
       "AssesTot(Million)  2.579850e+00  6.547275e+00  1.719405e+01  9.069332e+02  "
      ]
     },
     "execution_count": 141,
     "metadata": {},
     "output_type": "execute_result"
    }
   ],
   "source": [
    "exportS.describe().transpose()"
   ]
  },
  {
   "cell_type": "code",
   "execution_count": null,
   "metadata": {
    "collapsed": false
   },
   "outputs": [],
   "source": [
    "bldgclass = df.BldgClass.unique()"
   ]
  },
  {
   "cell_type": "code",
   "execution_count": null,
   "metadata": {
    "collapsed": false
   },
   "outputs": [],
   "source": [
    "print sorted(bldgclass)"
   ]
  },
  {
   "cell_type": "markdown",
   "metadata": {},
   "source": [
    "# SUBSET DATA USING SAFE RULES FROM MODEL"
   ]
  },
  {
   "cell_type": "code",
   "execution_count": 215,
   "metadata": {
    "collapsed": false
   },
   "outputs": [
    {
     "data": {
      "text/html": [
       "<div>\n",
       "<table border=\"1\" class=\"dataframe\">\n",
       "  <thead>\n",
       "    <tr style=\"text-align: right;\">\n",
       "      <th></th>\n",
       "      <th>bin</th>\n",
       "      <th>Address</th>\n",
       "      <th>Borough</th>\n",
       "      <th>OwnerName</th>\n",
       "      <th>NumFloors</th>\n",
       "      <th>num_floors</th>\n",
       "      <th>BldgFront</th>\n",
       "      <th>AssessTot</th>\n",
       "      <th>YearBuilt</th>\n",
       "      <th>Status</th>\n",
       "      <th>XCoord</th>\n",
       "      <th>YCoord</th>\n",
       "      <th>Age</th>\n",
       "      <th>AssesTot(Million)</th>\n",
       "    </tr>\n",
       "  </thead>\n",
       "  <tbody>\n",
       "    <tr>\n",
       "      <th>0</th>\n",
       "      <td>2014444</td>\n",
       "      <td>2501 DAVIDSON AVENUE</td>\n",
       "      <td>BX</td>\n",
       "      <td>DAVIDSON APARTMENTSLL</td>\n",
       "      <td>6.0</td>\n",
       "      <td>6.0</td>\n",
       "      <td>175.0</td>\n",
       "      <td>1182600.0</td>\n",
       "      <td>1935</td>\n",
       "      <td></td>\n",
       "      <td>1011578</td>\n",
       "      <td>254280</td>\n",
       "      <td>81</td>\n",
       "      <td>1.18260</td>\n",
       "    </tr>\n",
       "    <tr>\n",
       "      <th>1</th>\n",
       "      <td>2008116</td>\n",
       "      <td>1454 WALTON AVENUE</td>\n",
       "      <td>BX</td>\n",
       "      <td>WALTON AVE ASSOCIATES</td>\n",
       "      <td>6.0</td>\n",
       "      <td>6.0</td>\n",
       "      <td>175.0</td>\n",
       "      <td>1742850.0</td>\n",
       "      <td>1928</td>\n",
       "      <td></td>\n",
       "      <td>1007845</td>\n",
       "      <td>245617</td>\n",
       "      <td>88</td>\n",
       "      <td>1.74285</td>\n",
       "    </tr>\n",
       "    <tr>\n",
       "      <th>2</th>\n",
       "      <td>2003075</td>\n",
       "      <td>1190 SHAKESPEARE AVENUE</td>\n",
       "      <td>BX</td>\n",
       "      <td>1190 SHAKESPEARE LLC.</td>\n",
       "      <td>6.0</td>\n",
       "      <td>6.0</td>\n",
       "      <td>203.0</td>\n",
       "      <td>1413900.0</td>\n",
       "      <td>1929</td>\n",
       "      <td>SAFE</td>\n",
       "      <td>1005540</td>\n",
       "      <td>243978</td>\n",
       "      <td>87</td>\n",
       "      <td>1.41390</td>\n",
       "    </tr>\n",
       "    <tr>\n",
       "      <th>3</th>\n",
       "      <td>2083276</td>\n",
       "      <td>629 KAPPOCK STREET</td>\n",
       "      <td>BX</td>\n",
       "      <td>BONNIE CREST OWNERS C</td>\n",
       "      <td>6.0</td>\n",
       "      <td>6.0</td>\n",
       "      <td>215.0</td>\n",
       "      <td>3228750.0</td>\n",
       "      <td>1961</td>\n",
       "      <td>SAFE</td>\n",
       "      <td>1007172</td>\n",
       "      <td>260009</td>\n",
       "      <td>55</td>\n",
       "      <td>3.22875</td>\n",
       "    </tr>\n",
       "    <tr>\n",
       "      <th>4</th>\n",
       "      <td>2048824</td>\n",
       "      <td>2132 WALLACE AVENUE</td>\n",
       "      <td>BX</td>\n",
       "      <td>2132 PRESIDENTIAL ASS</td>\n",
       "      <td>6.0</td>\n",
       "      <td>6.0</td>\n",
       "      <td>200.0</td>\n",
       "      <td>3787200.0</td>\n",
       "      <td>1929</td>\n",
       "      <td></td>\n",
       "      <td>1021774</td>\n",
       "      <td>250454</td>\n",
       "      <td>87</td>\n",
       "      <td>3.78720</td>\n",
       "    </tr>\n",
       "  </tbody>\n",
       "</table>\n",
       "</div>"
      ],
      "text/plain": [
       "       bin                  Address Borough              OwnerName  NumFloors  \\\n",
       "0  2014444     2501 DAVIDSON AVENUE      BX  DAVIDSON APARTMENTSLL        6.0   \n",
       "1  2008116       1454 WALTON AVENUE      BX  WALTON AVE ASSOCIATES        6.0   \n",
       "2  2003075  1190 SHAKESPEARE AVENUE      BX  1190 SHAKESPEARE LLC.        6.0   \n",
       "3  2083276       629 KAPPOCK STREET      BX  BONNIE CREST OWNERS C        6.0   \n",
       "4  2048824      2132 WALLACE AVENUE      BX  2132 PRESIDENTIAL ASS        6.0   \n",
       "\n",
       "   num_floors  BldgFront  AssessTot  YearBuilt Status   XCoord  YCoord  Age  \\\n",
       "0         6.0      175.0  1182600.0       1935         1011578  254280   81   \n",
       "1         6.0      175.0  1742850.0       1928         1007845  245617   88   \n",
       "2         6.0      203.0  1413900.0       1929   SAFE  1005540  243978   87   \n",
       "3         6.0      215.0  3228750.0       1961   SAFE  1007172  260009   55   \n",
       "4         6.0      200.0  3787200.0       1929         1021774  250454   87   \n",
       "\n",
       "   AssesTot(Million)  \n",
       "0            1.18260  \n",
       "1            1.74285  \n",
       "2            1.41390  \n",
       "3            3.22875  \n",
       "4            3.78720  "
      ]
     },
     "execution_count": 215,
     "metadata": {},
     "output_type": "execute_result"
    }
   ],
   "source": [
    "export.head()"
   ]
  },
  {
   "cell_type": "code",
   "execution_count": 260,
   "metadata": {
    "collapsed": false
   },
   "outputs": [
    {
     "name": "stdout",
     "output_type": "stream",
     "text": [
      "5162\n",
      "accuracy\n",
      "safe\n",
      "1043\n",
      "unsafe\n",
      "103\n",
      "percent 0.1\n"
     ]
    }
   ],
   "source": [
    "#Age <= 33: SAFE (927.6/216.6)\n",
    "\n",
    "\n",
    "ageless33 = export[export[\"Age\"] <= 33]\n",
    "print len(ageless33)\n",
    "\n",
    "\n",
    "print \"accuracy\"\n",
    "print \"safe\"\n",
    "statusS = ageless33[ageless33[\"Status\"] == \"SAFE\"]\n",
    "print len(statusS)\n",
    "\n",
    "print \"unsafe\"\n",
    "statusSU = ageless33[ageless33[\"Status\"] == \"UNSAFE\"]\n",
    "print len(statusSU)\n",
    "\n",
    "print \"percent\",  round(len(statusSU)/float(len(statusS) ), 2)\n"
   ]
  },
  {
   "cell_type": "code",
   "execution_count": 259,
   "metadata": {
    "collapsed": false
   },
   "outputs": [
    {
     "name": "stdout",
     "output_type": "stream",
     "text": [
      "200\n",
      "accuracy\n",
      "safe\n",
      "54\n",
      "unsafe\n",
      "0\n",
      "percent 0.0\n"
     ]
    }
   ],
   "source": [
    "#Age > 33: :...AssessTotal > 383.4945: SAFE (32.7)\n",
    "assGreat383 = export[export[\"Age\"] > 33]\n",
    "assGreat383 = assGreat383[assGreat383[\"AssesTot(Million)\"] > 383.4945]\n",
    "\n",
    "print len(assGreat383)\n",
    "print \"accuracy\"\n",
    "print \"safe\"\n",
    "statusS = assGreat383[assGreat383[\"Status\"] == \"SAFE\"]\n",
    "print len(statusS)\n",
    "\n",
    "print \"unsafe\"\n",
    "statusSU = assGreat383[assGreat383[\"Status\"] == \"UNSAFE\"]\n",
    "print len(statusSU)\n",
    "\n",
    "print \"percent\",  round(len(statusSU)/float(len(statusS) ), 2)"
   ]
  },
  {
   "cell_type": "code",
   "execution_count": 258,
   "metadata": {
    "collapsed": false
   },
   "outputs": [
    {
     "name": "stdout",
     "output_type": "stream",
     "text": [
      "753\n",
      "accuracy\n",
      "safe\n",
      "403\n",
      "unsafe\n",
      "52\n",
      "percent 0.13\n"
     ]
    }
   ],
   "source": [
    "#   Age > 33: AssessTotal <= 383.4945: :...AssessTotal > 46.01025: :...Age > 66: SAFE (357.5/90.1)\n",
    "\n",
    "assLess383 = export[export[\"Age\"] > 33]\n",
    "assLess383 = assLess383[assLess383[\"AssesTot(Million)\"] <= 383.4945]\n",
    "assLess383 = assLess383[assLess383[\"AssesTot(Million)\"] > 46.01025]\n",
    "assLess383 = assLess383[assLess383[\"Age\"] > 66]\n",
    "\n",
    "print len(assLess383)\n",
    "\n",
    "print \"accuracy\"\n",
    "print \"safe\"\n",
    "statusS = assLess383[assLess383[\"Status\"] == \"SAFE\"]\n",
    "print len(statusS)\n",
    "\n",
    "print \"unsafe\"\n",
    "statusSU = assLess383[assLess383[\"Status\"] == \"UNSAFE\"]\n",
    "print len(statusSU)\n",
    "\n",
    "print \"percent\",  round(len(statusSU)/float(len(statusS) ), 2)"
   ]
  },
  {
   "cell_type": "code",
   "execution_count": 257,
   "metadata": {
    "collapsed": false
   },
   "outputs": [
    {
     "name": "stdout",
     "output_type": "stream",
     "text": [
      "555\n",
      "accuracy\n",
      "safe\n",
      "265\n",
      "unsafe\n",
      "35\n",
      "percent 0.13\n"
     ]
    }
   ],
   "source": [
    "#   Age > 33: AssessTotal <= 383.4945: :...AssessTotal > 46.01025: :...Age <= 66: SAFE (357.5/90.1) NumFloors > 18: SAFE (251.1/69.5)\n",
    "\n",
    "assLess383NF = export[export[\"Age\"] > 33]\n",
    "assLess383NF = assLess383NF[assLess383NF[\"AssesTot(Million)\"] <= 383.4945]\n",
    "assLess383NF = assLess383NF[assLess383NF[\"AssesTot(Million)\"] > 46.01025]\n",
    "assLess383NF = assLess383NF[assLess383NF[\"Age\"] <= 66]\n",
    "assLess383NF = assLess383NF[assLess383NF[\"NumFloors\"] > 18]\n",
    "\n",
    "print len(assLess383NF)\n",
    "print \"accuracy\"\n",
    "print \"safe\"\n",
    "statusS = assLess383NF[assLess383NF[\"Status\"] == \"SAFE\"]\n",
    "print len(statusS)\n",
    "\n",
    "print \"unsafe\"\n",
    "statusSU = assLess383NF[assLess383NF[\"Status\"] == \"UNSAFE\"]\n",
    "print len(statusSU)\n",
    "\n",
    "print \"percent\",  round(len(statusSU)/float(len(statusS) ), 2)"
   ]
  },
  {
   "cell_type": "code",
   "execution_count": 228,
   "metadata": {
    "collapsed": false
   },
   "outputs": [],
   "source": [
    "assLess383NF = assLess383NF.reset_index(drop=True)\n",
    "#for i in range(0, len(assLess383NF)):\n",
    "#    print assLess383NF[\"Status\"][i]"
   ]
  },
  {
   "cell_type": "code",
   "execution_count": 253,
   "metadata": {
    "collapsed": false
   },
   "outputs": [
    {
     "name": "stdout",
     "output_type": "stream",
     "text": [
      "5235\n",
      "accuracy\n",
      "safe\n",
      "3387\n",
      "unsafe\n",
      "877\n",
      "percent 0.26\n"
     ]
    }
   ],
   "source": [
    "#   Age > 33: AssessTotal <= 383.4945: :...AssessTotal <= 46.01025: BldgFront <= 698: :...NumFloors > 6: :...BldgFront <= 100.92: SAFE \n",
    "\n",
    "\n",
    "\n",
    "\n",
    "assLess46a = export[export[\"Age\"] > 33]\n",
    "assLess46a = assLess46a[assLess46a[\"AssesTot(Million)\"] <= 383.4945]\n",
    "assLess46a = assLess46a[assLess46a[\"AssesTot(Million)\"] <= 46.01025]\n",
    "assLess46a = assLess46a[assLess46a[\"BldgFront\"] <= 698]\n",
    "assLess46a = assLess46a[assLess46a[\"NumFloors\"] > 6]\n",
    "assLess46a = assLess46a[assLess46a[\"BldgFront\"] <= 100.92]\n",
    "\n",
    "\n",
    "print len(assLess46a)\n",
    "\n",
    "print \"accuracy\"\n",
    "print \"safe\"\n",
    "statusS = assLess46a[assLess46a[\"Status\"] == \"SAFE\"]\n",
    "print len(statusS)\n",
    "\n",
    "print \"unsafe\"\n",
    "statusSU = assLess46a[assLess46a[\"Status\"] == \"UNSAFE\"]\n",
    "print len(statusSU)\n",
    "\n",
    "print \"percent\",  round(len(statusSU)/float(len(statusS) ), 2)"
   ]
  },
  {
   "cell_type": "code",
   "execution_count": 256,
   "metadata": {
    "collapsed": false
   },
   "outputs": [
    {
     "name": "stdout",
     "output_type": "stream",
     "text": [
      "46\n",
      "accuracy\n",
      "safe\n",
      "31\n",
      "unsafe\n",
      "6\n",
      "percent 0.19\n"
     ]
    }
   ],
   "source": [
    "\n",
    "#   Age > 33: AssessTotal <= 383.4945: :...AssessTotal <= 46.01025: BldgFront <= 698: :...NumFloors > 6: :...BldgFront > 100.92: \n",
    "# Age <= 37: SAFE (55.4/15.7)\n",
    "assLess46 = export[export[\"Age\"] > 33]\n",
    "assLess46 = assLess46[assLess46[\"AssesTot(Million)\"] <= 383.4945]\n",
    "assLess46 = assLess46[assLess46[\"AssesTot(Million)\"] <= 46.01025]\n",
    "assLess46 = assLess46[assLess46[\"BldgFront\"] <= 698]\n",
    "assLess46 = assLess46[assLess46[\"NumFloors\"] > 6]\n",
    "assLess46 = assLess46[assLess46[\"BldgFront\"] > 100.92]\n",
    "assLess46 = assLess46[assLess46[\"Age\"] < 37]\n",
    "\n",
    "\n",
    "\n",
    "print len(assLess46)\n",
    "\n",
    "print \"accuracy\"\n",
    "print \"safe\"\n",
    "statusS = assLess46[assLess46[\"Status\"] == \"SAFE\"]\n",
    "print len(statusS)\n",
    "\n",
    "print \"unsafe\"\n",
    "statusSU = assLess46[assLess46[\"Status\"] == \"UNSAFE\"]\n",
    "print len(statusSU)\n",
    "\n",
    "print \"percent\",  round(len(statusSU)/float(len(statusS) ), 2)\n"
   ]
  },
  {
   "cell_type": "code",
   "execution_count": 231,
   "metadata": {
    "collapsed": false
   },
   "outputs": [],
   "source": [
    "assLess46 = assLess46.reset_index(drop=True)\n",
    "#for i in range(0, len(assLess46)):\n",
    "#    print assLess46[\"Status\"][i]"
   ]
  },
  {
   "cell_type": "code",
   "execution_count": null,
   "metadata": {
    "collapsed": true
   },
   "outputs": [],
   "source": []
  },
  {
   "cell_type": "code",
   "execution_count": 254,
   "metadata": {
    "collapsed": false
   },
   "outputs": [
    {
     "name": "stdout",
     "output_type": "stream",
     "text": [
      "11907\n",
      "accuracy\n",
      "safe\n",
      "2426\n",
      "unsafe\n",
      "423\n",
      "percent 0.17\n"
     ]
    }
   ],
   "source": [
    "#   Age > 33: AssessTotal <= 383.4945: :...AssessTotal <= 46.01025: BldgFront <= 698: :...NumFloors <= 6:\n",
    "# Age > 50: :...AssessTotal <= 12.8151: SAFE (2622.7/965.3)\n",
    "assLess12 = export[export[\"Age\"] > 33]\n",
    "assLess12 = assLess12[assLess12[\"AssesTot(Million)\"] <= 383.4945]\n",
    "assLess12 = assLess12[assLess12[\"AssesTot(Million)\"] <= 46.01025]\n",
    "assLess12 = assLess12[assLess12[\"BldgFront\"] <= 698]\n",
    "assLess12 = assLess12[assLess12[\"NumFloors\"] == 6]\n",
    "assLess12 = assLess12[assLess12[\"Age\"] > 50]\n",
    "assLess12 = assLess12[assLess12[\"AssesTot(Million)\"] <= 12.8151]\n",
    "\n",
    "print len(assLess12)\n",
    "\n",
    "\n",
    "print \"accuracy\"\n",
    "print \"safe\"\n",
    "statusS = assLess12[assLess12[\"Status\"] == \"SAFE\"]\n",
    "print len(statusS)\n",
    "\n",
    "print \"unsafe\"\n",
    "statusSU = assLess12[assLess12[\"Status\"] == \"UNSAFE\"]\n",
    "print len(statusSU)\n",
    "\n",
    "print \"percent\",  round(len(statusSU)/float(len(statusS) ), 2)\n",
    "\n",
    "\n"
   ]
  },
  {
   "cell_type": "code",
   "execution_count": 255,
   "metadata": {
    "collapsed": false
   },
   "outputs": [
    {
     "name": "stdout",
     "output_type": "stream",
     "text": [
      "298\n",
      "accuracy\n",
      "safe\n",
      "100\n",
      "unsafe\n",
      "35\n",
      "percent 0.35\n"
     ]
    }
   ],
   "source": [
    "#   Age > 33: AssessTotal <= 383.4945: :...AssessTotal <= 46.01025: BldgFront <= 698: :...NumFloors <= 6:\n",
    "# Age > 50: :...AssessTotal > 12.8151: AssessTotal > 16.52985 SAFE (2622.7/965.3)(138.8/48.8)\n",
    "\n",
    "assGreat12 = export[export[\"Age\"] > 33]\n",
    "assGreat12 = assGreat12[assGreat12[\"AssesTot(Million)\"] <= 383.4945]\n",
    "assGreat12 = assGreat12[assGreat12[\"AssesTot(Million)\"] <= 46.01025]\n",
    "assGreat12 = assGreat12[assGreat12[\"BldgFront\"] <= 698]\n",
    "assGreat12 = assGreat12[assGreat12[\"NumFloors\"] == 6]\n",
    "assGreat12 = assGreat12[assGreat12[\"Age\"] > 50]\n",
    "assGreat12 = assGreat12[assGreat12[\"AssesTot(Million)\"] > 16.52985]\n",
    "\n",
    "print len(assGreat12)\n",
    "\n",
    "print \"accuracy\"\n",
    "print \"safe\"\n",
    "statusS = assGreat12[assGreat12[\"Status\"] == \"SAFE\"]\n",
    "print len(statusS)\n",
    "\n",
    "print \"unsafe\"\n",
    "statusSU = assGreat12[assGreat12[\"Status\"] == \"UNSAFE\"]\n",
    "print len(statusSU)\n",
    "\n",
    "print \"percent\",  round(len(statusSU)/float(len(statusS) ), 2)\n"
   ]
  },
  {
   "cell_type": "code",
   "execution_count": 265,
   "metadata": {
    "collapsed": false
   },
   "outputs": [],
   "source": [
    "#merge all of the dataframes\n",
    "\n",
    "frames = [ageless33,assGreat383, assLess383, assLess383NF, assLess46a, assLess46, assLess12, assGreat12]\n",
    "\n",
    "result = pd.concat(frames)\n",
    "\n",
    "result = result.reset_index(drop=True)"
   ]
  },
  {
   "cell_type": "code",
   "execution_count": 276,
   "metadata": {
    "collapsed": false
   },
   "outputs": [
    {
     "name": "stdout",
     "output_type": "stream",
     "text": [
      "22531\n"
     ]
    }
   ],
   "source": [
    "result[\"bin\"] = result[\"bin\"].astype(str)\n",
    "\n",
    "#get set of bins\n",
    "r_list = []\n",
    "\n",
    "for i in range(0, len(result)):\n",
    "    r_list.append(result[\"bin\"][i])\n",
    "    \n",
    "r_set = set(r_list)\n",
    "r_set = list(r_set)\n",
    "\n",
    "print len(r_set)"
   ]
  },
  {
   "cell_type": "code",
   "execution_count": 277,
   "metadata": {
    "collapsed": false
   },
   "outputs": [
    {
     "data": {
      "text/plain": [
       "'5164479'"
      ]
     },
     "execution_count": 277,
     "metadata": {},
     "output_type": "execute_result"
    }
   ],
   "source": [
    "max(r_set)"
   ]
  },
  {
   "cell_type": "code",
   "execution_count": 274,
   "metadata": {
    "collapsed": false
   },
   "outputs": [
    {
     "name": "stdout",
     "output_type": "stream",
     "text": [
      "28597\n",
      "24156\n"
     ]
    }
   ],
   "source": [
    "print len(export)\n",
    "print len(result)"
   ]
  },
  {
   "cell_type": "code",
   "execution_count": 280,
   "metadata": {
    "collapsed": false
   },
   "outputs": [
    {
     "name": "stdout",
     "output_type": "stream",
     "text": [
      "4291\n"
     ]
    }
   ],
   "source": [
    "final_result = export\n",
    "\n",
    "for i in range(0, len(export)):\n",
    "    if i%1000 == 0:\n",
    "        print i\n",
    "    if export[\"bin\"][i] in r_set:\n",
    "        final_result  = final_result[final_result['bin'] != export[\"bin\"][i]]\n",
    "\n",
    "print len(final_result)"
   ]
  },
  {
   "cell_type": "code",
   "execution_count": 282,
   "metadata": {
    "collapsed": false
   },
   "outputs": [
    {
     "name": "stdout",
     "output_type": "stream",
     "text": [
      "accuracy\n",
      "safe\n",
      "1894\n",
      "unsafe\n",
      "914\n",
      "percent 0.48\n"
     ]
    }
   ],
   "source": [
    "print \"accuracy\"\n",
    "print \"safe\"\n",
    "statusS = final_result[final_result[\"Status\"] == \"SAFE\"]\n",
    "print len(statusS)\n",
    "\n",
    "print \"unsafe\"\n",
    "statusSU = final_result[final_result[\"Status\"] == \"UNSAFE\"]\n",
    "print len(statusSU)\n",
    "\n",
    "print \"percent\",  round(len(statusSU)/float(len(statusS) ), 2)"
   ]
  },
  {
   "cell_type": "code",
   "execution_count": 304,
   "metadata": {
    "collapsed": false
   },
   "outputs": [
    {
     "name": "stdout",
     "output_type": "stream",
     "text": [
      "1483\n"
     ]
    }
   ],
   "source": [
    "final_result2 = final_result\n",
    "final_result2 = final_result2[final_result2[\"Status\"] != \"SAFE\"]\n",
    "final_result2 = final_result2[final_result2[\"Status\"] != \"UNSAFE\"]\n",
    "\n",
    "print len(final_result2)\n",
    "\n",
    "#sort by values know have predictive value\n",
    "\n",
    "final_result2 = final_result2.sort_values(['AssesTot(Million)', 'BldgFront', 'NumFloors', 'Age'], ascending=[True, False, False, False])\n",
    "\n",
    "final_result2 = final_result2.reset_index(drop=True)\n",
    "\n"
   ]
  },
  {
   "cell_type": "code",
   "execution_count": 314,
   "metadata": {
    "collapsed": false
   },
   "outputs": [
    {
     "name": "stdout",
     "output_type": "stream",
     "text": [
      "14178\n",
      "59\n"
     ]
    }
   ],
   "source": [
    "#validate that the building is unknown to the dob\n",
    "\n",
    "final_result2[\"Known to DOB\"] = \"No\"\n",
    "\n",
    "val = pd.read_csv(\"S:\\\\Office of Risk Management\\\\User Folders\\\\Darius Mehri\\\\Facade Predictive Analysis\\\\Cycle 5-8 Non DOB NOW Facade Filings (11-22-16).csv\", low_memory=False )\n",
    "\n",
    "val = val[np.isfinite(val[\"BIN\"])]\n",
    "val = val.reset_index(drop=True)\n",
    "\n",
    "val[\"BIN\"] = val[\"BIN\"].astype(int)\n",
    "val[\"BIN\"] = val[\"BIN\"].astype(str)\n",
    "\n",
    "\n",
    "\n",
    "\n",
    "#get set of bins\n",
    "val_list = []\n",
    "\n",
    "for i in range(0, len(val)):\n",
    "    val_list.append(val[\"BIN\"][i])\n",
    "    \n",
    "val_set = set(val_list)\n",
    "val_set = list(val_set)\n",
    "\n",
    "print len(val_set)\n",
    "\n",
    "count=0\n",
    "\n",
    "for i in range(0, len(final_result2)):\n",
    "    if final_result2[\"bin\"][i] in val_set:\n",
    "        final_result2[\"Known to DOB\"][i] = \"Yes\"\n",
    "        count+=1\n",
    "        \n",
    "print count\n",
    "\n"
   ]
  },
  {
   "cell_type": "code",
   "execution_count": 320,
   "metadata": {
    "collapsed": false
   },
   "outputs": [
    {
     "name": "stdout",
     "output_type": "stream",
     "text": [
      "705\n"
     ]
    }
   ],
   "source": [
    "#drop duplicates\n",
    "final_result2 = final_result2.drop_duplicates(['Address']).reset_index(drop=True)\n",
    "\n",
    "print len(final_result2)"
   ]
  },
  {
   "cell_type": "code",
   "execution_count": 321,
   "metadata": {
    "collapsed": false
   },
   "outputs": [],
   "source": [
    "final_result2.to_csv(\"S:\\\\Office of Risk Management\\\\User Folders\\\\Darius Mehri\\\\Facade Predictive Analysis\\\\FINAL INITIAL RESULTS 1.csv\")"
   ]
  },
  {
   "cell_type": "code",
   "execution_count": 317,
   "metadata": {
    "collapsed": false
   },
   "outputs": [
    {
     "data": {
      "text/plain": [
       "1483"
      ]
     },
     "execution_count": 317,
     "metadata": {},
     "output_type": "execute_result"
    }
   ],
   "source": [
    "len(final_result2)"
   ]
  },
  {
   "cell_type": "markdown",
   "metadata": {},
   "source": [
    "# SUBSET DATA USING UNSAFE RULES FROM MODEL"
   ]
  },
  {
   "cell_type": "code",
   "execution_count": 287,
   "metadata": {
    "collapsed": false
   },
   "outputs": [
    {
     "name": "stdout",
     "output_type": "stream",
     "text": [
      "374\n",
      "accuracy\n",
      "safe\n",
      "81\n",
      "unsafe\n",
      "56\n",
      "percent unsafe 0.41\n"
     ]
    }
   ],
   "source": [
    "#Age > 33: AssessTotal <= 383.4945: :...AssessTotal > 46.01025: :  Age <= 66:   :...NumFloors <= 18: UNSAFE (153.3/53.4)\n",
    "assLess383NF = export[export[\"Age\"] > 33]\n",
    "assLess383NF = assLess383NF[assLess383NF[\"AssesTot(Million)\"] <= 383.4945]\n",
    "assLess383NF = assLess383NF[assLess383NF[\"AssesTot(Million)\"] > 46.01025]\n",
    "assLess383NF = assLess383NF[assLess383NF[\"Age\"] <= 66]\n",
    "assLess383NF = assLess383NF[assLess383NF[\"NumFloors\"] <= 18]\n",
    "\n",
    "print len(assLess383NF)\n",
    "print \"accuracy\"\n",
    "print \"safe\"\n",
    "statusS = assLess383NF[assLess383NF[\"Status\"] == \"SAFE\"]\n",
    "print len(statusS)\n",
    "\n",
    "print \"unsafe\"\n",
    "statusU = assLess383NF[assLess383NF[\"Status\"] == \"UNSAFE\"]\n",
    "print len(statusSU)\n",
    "\n",
    "print \"percent unsafe\",  round(len(statusU)/   float(len(statusS) + len(statusU)      ), 2)"
   ]
  },
  {
   "cell_type": "code",
   "execution_count": 289,
   "metadata": {
    "collapsed": false
   },
   "outputs": [
    {
     "name": "stdout",
     "output_type": "stream",
     "text": [
      "56\n",
      "accuracy\n",
      "safe\n",
      "3\n",
      "unsafe\n",
      "56\n",
      "percent unsafe 0.92\n"
     ]
    }
   ],
   "source": [
    "#Age > 33: AssessTotal <= 383.4945: :...AssessTotal <= 46.01025: : BldgFront <= 698: \n",
    "\n",
    "assLess383NF = export[export[\"Age\"] > 33]\n",
    "assLess383NF = assLess383NF[assLess383NF[\"AssesTot(Million)\"] <= 383.4945]\n",
    "assLess383NF = assLess383NF[assLess383NF[\"AssesTot(Million)\"] <= 46.01025]\n",
    "assLess383NF = assLess383NF[assLess383NF[\"BldgFront\"] > 698]\n",
    "\n",
    "print len(assLess383NF)\n",
    "print \"accuracy\"\n",
    "print \"safe\"\n",
    "statusS = assLess383NF[assLess383NF[\"Status\"] == \"SAFE\"]\n",
    "print len(statusS)\n",
    "\n",
    "print \"unsafe\"\n",
    "statusU = assLess383NF[assLess383NF[\"Status\"] == \"UNSAFE\"]\n",
    "print len(statusSU)\n",
    "\n",
    "print \"percent unsafe\",  round(len(statusU)/   float(len(statusS) + len(statusU)      ), 2)\n"
   ]
  },
  {
   "cell_type": "code",
   "execution_count": 290,
   "metadata": {
    "collapsed": false
   },
   "outputs": [
    {
     "name": "stdout",
     "output_type": "stream",
     "text": [
      "3285\n",
      "accuracy\n",
      "safe\n",
      "1653\n",
      "unsafe\n",
      "56\n",
      "percent unsafe 0.3\n"
     ]
    }
   ],
   "source": [
    "#Age > 33: AssessTotal <= 383.4945: :...AssessTotal <= 46.01025: : BldgFront <= 698: NumFloors > 6:  BldgFront > 100.92:Age > 37: UNSAFE (2695.9/1336.5)\n",
    "unsafeAge = export[export[\"Age\"] > 33]\n",
    "\n",
    "unsafeAge = unsafeAge[unsafeAge[\"AssesTot(Million)\"] <= 383.4945]\n",
    "unsafeAge = unsafeAge[unsafeAge[\"AssesTot(Million)\"] <= 46.01025]\n",
    "unsafeAge = unsafeAge[unsafeAge[\"BldgFront\"] <= 698]\n",
    "unsafeAge = unsafeAge[unsafeAge[\"NumFloors\"] > 6]\n",
    "unsafeAge = unsafeAge[unsafeAge[\"BldgFront\"] > 100.92]\n",
    "unsafeAge = unsafeAge[unsafeAge[\"Age\"] > 37]\n",
    "\n",
    "print len(unsafeAge)\n",
    "print \"accuracy\"\n",
    "print \"safe\"\n",
    "statusS = unsafeAge[unsafeAge[\"Status\"] == \"SAFE\"]\n",
    "print len(statusS)\n",
    "\n",
    "print \"unsafe\"\n",
    "statusU = unsafeAge[unsafeAge[\"Status\"] == \"UNSAFE\"]\n",
    "print len(statusSU)\n",
    "\n",
    "print \"percent unsafe\",  round(len(statusU)/   float(len(statusS) + len(statusU)      ), 2)\n",
    "\n"
   ]
  },
  {
   "cell_type": "code",
   "execution_count": null,
   "metadata": {
    "collapsed": true
   },
   "outputs": [],
   "source": []
  }
 ],
 "metadata": {
  "kernelspec": {
   "display_name": "Python 2",
   "language": "python",
   "name": "python2"
  },
  "language_info": {
   "codemirror_mode": {
    "name": "ipython",
    "version": 2
   },
   "file_extension": ".py",
   "mimetype": "text/x-python",
   "name": "python",
   "nbconvert_exporter": "python",
   "pygments_lexer": "ipython2",
   "version": "2.7.11"
  }
 },
 "nbformat": 4,
 "nbformat_minor": 0
}
